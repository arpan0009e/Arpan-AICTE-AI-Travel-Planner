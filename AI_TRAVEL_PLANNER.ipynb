{
  "cells": [
    {
      "cell_type": "markdown",
      "metadata": {
        "id": "view-in-github",
        "colab_type": "text"
      },
      "source": [
        "<a href=\"https://colab.research.google.com/github/arpan0009e/Arpan-AICTE-AI-Travel-Planner/blob/main/AI_TRAVEL_PLANNER.ipynb\" target=\"_parent\"><img src=\"https://colab.research.google.com/assets/colab-badge.svg\" alt=\"Open In Colab\"/></a>"
      ]
    },
    {
      "cell_type": "code",
      "execution_count": null,
      "metadata": {
        "id": "9UfXI3SSWrtH"
      },
      "outputs": [],
      "source": [
        "'''\n",
        "Title: AI Travel Planner for Students\n",
        "\n",
        "Problem Statement:\n",
        "\n",
        "Planning trips is time-consuming and expensive for students with limited budgets.\n",
        "\n",
        "Existing travel apps often provide generic, non-personalized suggestions.\n",
        "\n",
        "Objective:\n",
        "\n",
        "Develop an AI-driven app to generate personalized, budget-friendly, and efficient travel itineraries.\n",
        "\n",
        "Scope:\n",
        "\n",
        "Uses Gemini AI to create custom, day-by-day travel plans.\n",
        "\n",
        "Integrates map and location data to optimize routes and logistics.\n",
        "\n",
        "Tailored to student profiles based on destination, budget, and personal interests.\n",
        "\n",
        "System Architecture:\n",
        "\n",
        "Frontend: Streamlit (Python)\n",
        "\n",
        "Backend: Google Gemini API & Google Maps API\n",
        "\n",
        "Workflow:\n",
        "\n",
        "User inputs trip details (destination, budget, interests).\n",
        "\n",
        "AI generates a personalized daily itinerary.\n",
        "\n",
        "App displays the plan with an interactive map of all locations.\n",
        "'''\n"
      ]
    },
    {
      "cell_type": "code",
      "execution_count": 1,
      "metadata": {
        "id": "WJWUBHqtfiVx",
        "colab": {
          "base_uri": "https://localhost:8080/"
        },
        "outputId": "d8c5b24e-098b-4b81-c9f4-1e14d3bc33ed"
      },
      "outputs": [
        {
          "output_type": "stream",
          "name": "stdout",
          "text": [
            "\u001b[2K   \u001b[90m━━━━━━━━━━━━━━━━━━━━━━━━━━━━━━━━━━━━━━━━\u001b[0m \u001b[32m10.1/10.1 MB\u001b[0m \u001b[31m64.0 MB/s\u001b[0m eta \u001b[36m0:00:00\u001b[0m\n",
            "\u001b[2K   \u001b[90m━━━━━━━━━━━━━━━━━━━━━━━━━━━━━━━━━━━━━━━━\u001b[0m \u001b[32m6.9/6.9 MB\u001b[0m \u001b[31m47.4 MB/s\u001b[0m eta \u001b[36m0:00:00\u001b[0m\n",
            "\u001b[?25h"
          ]
        }
      ],
      "source": [
        "# Run this cell to install all dependencies\n",
        "%pip install -q streamlit pyngrok google-generativeai pandas requests"
      ]
    },
    {
      "cell_type": "code",
      "execution_count": 5,
      "metadata": {
        "id": "4UIMJJS1fi80",
        "colab": {
          "base_uri": "https://localhost:8080/"
        },
        "outputId": "eedc60b0-2868-41fe-f4a7-f0ebe953227c"
      },
      "outputs": [
        {
          "output_type": "stream",
          "name": "stdout",
          "text": [
            "Overwriting app.py\n"
          ]
        }
      ],
      "source": [
        "%%writefile app.py\n",
        "\n",
        "import streamlit as st\n",
        "import google.generativeai as genai\n",
        "import pandas as pd\n",
        "import requests\n",
        "import json\n",
        "import os\n",
        "\n",
        "# --- Page Configuration ---\n",
        "st.set_page_config(\n",
        "    page_title=\"AI Travel Planner\",\n",
        "    page_icon=\"✈️\",\n",
        "    layout=\"wide\"\n",
        ")\n",
        "\n",
        "# --- Function Definitions ---\n",
        "\n",
        "def fetch_places(destination, interest, api_key):\n",
        "    \"\"\"Fetches real places from Google Places API.\"\"\"\n",
        "    url = f\"https://maps.googleapis.com/maps/api/place/textsearch/json?query={interest} in {destination}&key={api_key}\"\n",
        "    try:\n",
        "        response = requests.get(url)\n",
        "        response.raise_for_status()  # Raise an exception for bad status codes\n",
        "        results = response.json().get('results', [])\n",
        "        places = []\n",
        "        for place in results[:5]:  # Get top 5 results\n",
        "            places.append({\n",
        "                \"name\": place.get('name'),\n",
        "                \"rating\": place.get('rating', 'N/A'),\n",
        "                \"location\": place.get('geometry', {}).get('location', {})\n",
        "            })\n",
        "        return places\n",
        "    except requests.exceptions.RequestException as e:\n",
        "        st.error(f\"Error fetching places: {e}\")\n",
        "        return []\n",
        "\n",
        "def generate_itinerary(destination, duration, budget, interests, places_data, api_key):\n",
        "    \"\"\"Calls the Gemini API to generate an itinerary.\"\"\"\n",
        "    genai.configure(api_key=api_key)\n",
        "    model = genai.GenerativeModel('models/gemini-2.5-pro')\n",
        "    generation_config = genai.GenerationConfig(response_mime_type=\"application/json\")\n",
        "\n",
        "    prompt = f\"\"\"\n",
        "    You are an expert travel planner. Create a detailed {duration}-day travel itinerary for {destination} with a budget of ${budget}, focusing on interests in {', '.join(interests)}.\n",
        "    Use ONLY the locations provided in this list: {json.dumps(places_data)}. Do not invent new places.\n",
        "    Return a valid JSON object with a single key \"itinerary\", which is a list of days. Each day must have keys: \"day\", \"title\", and \"activities\".\n",
        "    Each activity must have keys: \"name\", \"description\", and \"location\" (with \"lat\" and \"lng\"). Ensure the location data is copied accurately from the provided list.\n",
        "    \"\"\"\n",
        "    try:\n",
        "        response = model.generate_content(prompt, generation_config=generation_config)\n",
        "        return json.loads(response.text)\n",
        "    except Exception as e:\n",
        "        st.error(f\"AI itinerary generation failed. Error: {e}\")\n",
        "        return None\n",
        "\n",
        "# --- Main App Interface ---\n",
        "\n",
        "st.title(\"Your AI Travel Planner ✈️\")\n",
        "\n",
        "# Use secrets for API keys\n",
        "try:\n",
        "    GEMINI_KEY = st.secrets[\"GEMINI_API_KEY\"]\n",
        "    MAPS_KEY = st.secrets[\"MAPS_API_KEY\"]\n",
        "except FileNotFoundError:\n",
        "    st.error(\"Secrets file not found. Please ensure your API keys are set up correctly.\")\n",
        "    st.stop()\n",
        "\n",
        "# --- Sidebar for User Inputs ---\n",
        "with st.sidebar:\n",
        "    st.header(\"Your Trip Details\")\n",
        "    destination = st.text_input(\"Destination\", \"Kyoto, Japan\")\n",
        "    duration_days = st.number_input(\"Number of Days\", min_value=1, max_value=14, value=3)\n",
        "    budget = st.text_input(\"Budget ($)\", \"1200\")\n",
        "    interests = st.multiselect(\n",
        "        \"Select Your Interests\",\n",
        "        ['Temples and Shrines', 'Gardens', 'Traditional Food', 'Anime and Manga', 'Hiking'],\n",
        "        default=['Gardens', 'Traditional Food']\n",
        "    )\n",
        "    generate_button = st.button(\"Generate Itinerary ✨\")\n",
        "\n",
        "# --- Main Logic and Display ---\n",
        "if generate_button:\n",
        "    if not destination or not interests:\n",
        "        st.warning(\"Please enter a destination and at least one interest.\")\n",
        "    else:\n",
        "        with st.spinner(\"Finding the best spots...\"):\n",
        "            all_places = []\n",
        "            for interest in interests:\n",
        "                all_places.extend(fetch_places(destination, interest, MAPS_KEY))\n",
        "\n",
        "        if not all_places:\n",
        "            st.error(\"Could not find any locations for the selected interests. Please try again.\")\n",
        "        else:\n",
        "            with st.spinner(\"AI is crafting your personalized itinerary... 🧠\"):\n",
        "                itinerary_data = generate_itinerary(destination, duration_days, budget, interests, all_places, GEMINI_KEY)\n",
        "                st.session_state.itinerary = itinerary_data\n",
        "\n",
        "# --- Display Results ---\n",
        "if 'itinerary' in st.session_state and st.session_state.itinerary:\n",
        "    st.success(\"Your itinerary is ready!\")\n",
        "    itinerary_data = st.session_state.itinerary\n",
        "\n",
        "    col1, col2 = st.columns([1.5, 1])\n",
        "\n",
        "    with col1:\n",
        "        for day in itinerary_data.get('itinerary', []):\n",
        "            st.subheader(f\"📍 Day {day['day']}: {day['title']}\")\n",
        "            for activity in day.get('activities', []):\n",
        "                with st.expander(f\"**{activity['name']}**\"):\n",
        "                    st.markdown(activity['description'])\n",
        "                    maps_link = f\"https://www.google.com/maps/search/?api=1&query={activity['location']['lat']},{activity['location']['lng']}\"\n",
        "                    st.link_button(\"View on Google Maps ↗️\", maps_link)\n",
        "\n",
        "    with col2:\n",
        "        st.subheader(\"🗺️ Your Trip Map\")\n",
        "        locations = []\n",
        "        for day in itinerary_data.get('itinerary', []):\n",
        "            for activity in day.get('activities', []):\n",
        "                loc = activity.get('location')\n",
        "                if loc and 'lat' in loc and 'lng' in loc:\n",
        "                    locations.append({\"name\": activity['name'], \"lat\": loc['lat'], \"lng\": loc['lng']})\n",
        "\n",
        "        if locations:\n",
        "            map_df = pd.DataFrame(locations)\n",
        "            st.map(map_df, latitude='lat', longitude='lng', size=20, zoom=11)\n",
        "else:\n",
        "    st.info(\"Enter your trip details in the sidebar to get started!\")"
      ]
    },
    {
      "cell_type": "code",
      "execution_count": 7,
      "metadata": {
        "colab": {
          "base_uri": "https://localhost:8080/"
        },
        "id": "MAg6omUxfsI8",
        "outputId": "a60b0288-b6fc-481a-b7c5-f16759dae8ee"
      },
      "outputs": [
        {
          "output_type": "stream",
          "name": "stdout",
          "text": [
            "\n",
            "🎉 Your Streamlit app is live!\n",
            "Click here: NgrokTunnel: \"https://chirographic-belen-unanaemic.ngrok-free.dev\" -> \"http://localhost:8501\"\n",
            "\n"
          ]
        },
        {
          "output_type": "stream",
          "name": "stderr",
          "text": [
            "WARNING:pyngrok.process.ngrok:t=2025-10-13T18:06:57+0000 lvl=warn msg=\"failed to open private leg\" id=91c519891be1 privaddr=localhost:8501 err=\"dial tcp [::1]:8501: connect: connection refused\"\n",
            "WARNING:pyngrok.process.ngrok:t=2025-10-13T18:06:58+0000 lvl=warn msg=\"failed to open private leg\" id=da128e521550 privaddr=localhost:8501 err=\"dial tcp [::1]:8501: connect: connection refused\"\n"
          ]
        },
        {
          "output_type": "stream",
          "name": "stdout",
          "text": [
            "\n",
            "Collecting usage statistics. To deactivate, set browser.gatherUsageStats to false.\n",
            "\u001b[0m\n",
            "\u001b[0m\n",
            "\u001b[34m\u001b[1m  You can now view your Streamlit app in your browser.\u001b[0m\n",
            "\u001b[0m\n",
            "\u001b[34m  Local URL: \u001b[0m\u001b[1mhttp://localhost:8501\u001b[0m\n",
            "\u001b[34m  Network URL: \u001b[0m\u001b[1mhttp://172.28.0.12:8501\u001b[0m\n",
            "\u001b[34m  External URL: \u001b[0m\u001b[1mhttp://34.21.6.29:8501\u001b[0m\n",
            "\u001b[0m\n",
            "\u001b[34m  Stopping...\u001b[0m\n",
            "\u001b[34m  Stopping...\u001b[0m\n"
          ]
        }
      ],
      "source": [
        "import os\n",
        "from google.colab import userdata\n",
        "from pyngrok import ngrok\n",
        "\n",
        "# Create the .streamlit/secrets.toml file to pass API keys to the app\n",
        "os.makedirs(\".streamlit\", exist_ok=True)\n",
        "with open(\".streamlit/secrets.toml\", \"w\") as f:\n",
        "    f.write(f'GEMINI_API_KEY = \"{userdata.get(\"GEMINI_API_KEY\")}\"\\n')\n",
        "    f.write(f'MAPS_API_KEY = \"{userdata.get(\"MAPS_API_KEY\")}\"\\n')\n",
        "\n",
        "# Terminate any existing ngrok tunnels\n",
        "ngrok.kill()\n",
        "\n",
        "# Setup and run ngrok\n",
        "try:\n",
        "    NGROK_AUTH_TOKEN = userdata.get('NGROK_AUTH_TOKEN')\n",
        "    ngrok.set_auth_token(NGROK_AUTH_TOKEN)\n",
        "    public_url = ngrok.connect(8501)\n",
        "    print(\"\\n🎉 Your Streamlit app is live!\")\n",
        "    print(f\"Click here: {public_url}\\n\")\n",
        "except Exception as e:\n",
        "    print(f\"❌ Error launching ngrok. Please ensure your NGROK_AUTH_TOKEN is correct in Colab secrets. Error: {e}\")\n",
        "\n",
        "# Run the Streamlit app\n",
        "!streamlit run app.py --server.port 8501"
      ]
    },
    {
      "cell_type": "code",
      "execution_count": null,
      "metadata": {
        "id": "B4u7bvXFfufg"
      },
      "outputs": [],
      "source": []
    }
  ],
  "metadata": {
    "colab": {
      "provenance": [],
      "authorship_tag": "ABX9TyMUnZtwnBbPPkd73LHhygxk",
      "include_colab_link": true
    },
    "kernelspec": {
      "display_name": "Python 3",
      "name": "python3"
    },
    "language_info": {
      "name": "python"
    }
  },
  "nbformat": 4,
  "nbformat_minor": 0
}